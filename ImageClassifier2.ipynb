{
 "cells": [
  {
   "cell_type": "code",
   "execution_count": 1,
   "id": "96484bc7",
   "metadata": {},
   "outputs": [],
   "source": [
    "import tensorflow as tf\n",
    "import os\n",
    "import numpy as np\n",
    "import matplotlib.pyplot as plt\n",
    "import pandas as pd"
   ]
  },
  {
   "cell_type": "code",
   "execution_count": 2,
   "id": "463c7ac4",
   "metadata": {},
   "outputs": [],
   "source": [
    "train_data = \"D:\\Intern\\Data Science\\Intern_Project\\Train\""
   ]
  },
  {
   "cell_type": "code",
   "execution_count": 3,
   "id": "b743c367",
   "metadata": {},
   "outputs": [
    {
     "data": {
      "text/plain": [
       "['conditioning excercise', 'Sports']"
      ]
     },
     "execution_count": 3,
     "metadata": {},
     "output_type": "execute_result"
    }
   ],
   "source": [
    "os.listdir(train_data)"
   ]
  },
  {
   "cell_type": "code",
   "execution_count": 6,
   "id": "148c6918",
   "metadata": {},
   "outputs": [
    {
     "name": "stdout",
     "output_type": "stream",
     "text": [
      "Found 4105 files belonging to 2 classes.\n"
     ]
    }
   ],
   "source": [
    "TRAINING_DATA = tf.keras.utils.image_dataset_from_directory(train_data)"
   ]
  },
  {
   "cell_type": "code",
   "execution_count": 7,
   "id": "dd57ed54",
   "metadata": {},
   "outputs": [],
   "source": [
    "data_iterator = TRAINING_DATA.as_numpy_iterator()"
   ]
  },
  {
   "cell_type": "code",
   "execution_count": 8,
   "id": "a8bd63fb",
   "metadata": {},
   "outputs": [],
   "source": [
    "batch = data_iterator.next()"
   ]
  },
  {
   "cell_type": "code",
   "execution_count": 9,
   "id": "2d787028",
   "metadata": {},
   "outputs": [
    {
     "data": {
      "text/plain": [
       "(32, 256, 256, 3)"
      ]
     },
     "execution_count": 9,
     "metadata": {},
     "output_type": "execute_result"
    }
   ],
   "source": [
    "batch[0].shape"
   ]
  },
  {
   "cell_type": "code",
   "execution_count": 12,
   "id": "66489b6f",
   "metadata": {},
   "outputs": [
    {
     "data": {
      "text/plain": [
       "array([0, 1, 0, 0, 0, 0, 1, 0, 0, 0, 0, 0, 0, 1, 0, 1, 0, 1, 0, 1, 0, 0,\n",
       "       0, 0, 0, 0, 0, 0, 0, 0, 0, 0])"
      ]
     },
     "execution_count": 12,
     "metadata": {},
     "output_type": "execute_result"
    }
   ],
   "source": [
    "batch[1]"
   ]
  },
  {
   "cell_type": "code",
   "execution_count": 13,
   "id": "339e9eb7",
   "metadata": {},
   "outputs": [],
   "source": [
    "TRAINING_DATA = TRAINING_DATA.map(lambda x,y:(x/255,y))"
   ]
  },
  {
   "cell_type": "code",
   "execution_count": 15,
   "id": "61874347",
   "metadata": {},
   "outputs": [],
   "source": [
    "scaled_iterator = TRAINING_DATA.as_numpy_iterator()"
   ]
  },
  {
   "cell_type": "code",
   "execution_count": 16,
   "id": "5bfa1250",
   "metadata": {},
   "outputs": [],
   "source": [
    "batch = scaled_iterator.next()"
   ]
  },
  {
   "cell_type": "code",
   "execution_count": 17,
   "id": "bf62e7af",
   "metadata": {},
   "outputs": [
    {
     "data": {
      "text/plain": [
       "1.0"
      ]
     },
     "execution_count": 17,
     "metadata": {},
     "output_type": "execute_result"
    }
   ],
   "source": [
    "batch[0].max()"
   ]
  },
  {
   "cell_type": "code",
   "execution_count": 18,
   "id": "cfcfa476",
   "metadata": {},
   "outputs": [
    {
     "data": {
      "text/plain": [
       "0.0"
      ]
     },
     "execution_count": 18,
     "metadata": {},
     "output_type": "execute_result"
    }
   ],
   "source": [
    "batch[0].min()"
   ]
  },
  {
   "cell_type": "code",
   "execution_count": 19,
   "id": "cac279cb",
   "metadata": {},
   "outputs": [
    {
     "data": {
      "text/plain": [
       "129"
      ]
     },
     "execution_count": 19,
     "metadata": {},
     "output_type": "execute_result"
    }
   ],
   "source": [
    "len(TRAINING_DATA)"
   ]
  },
  {
   "cell_type": "code",
   "execution_count": 21,
   "id": "ed16fcb8",
   "metadata": {},
   "outputs": [
    {
     "name": "stdout",
     "output_type": "stream",
     "text": [
      "103\n",
      "26\n"
     ]
    }
   ],
   "source": [
    "train_size = int(len(TRAINING_DATA)*0.8)\n",
    "val_size = int(len(TRAINING_DATA)*0.2) + 1\n",
    "print(train_size)\n",
    "print(val_size)"
   ]
  },
  {
   "cell_type": "code",
   "execution_count": 22,
   "id": "535fdec3",
   "metadata": {},
   "outputs": [],
   "source": [
    "train = TRAINING_DATA.take(train_size)\n",
    "val = TRAINING_DATA.skip(train_size).take(val_size)"
   ]
  },
  {
   "cell_type": "code",
   "execution_count": 23,
   "id": "23ba2b3d",
   "metadata": {},
   "outputs": [
    {
     "data": {
      "text/plain": [
       "103"
      ]
     },
     "execution_count": 23,
     "metadata": {},
     "output_type": "execute_result"
    }
   ],
   "source": [
    "len(train)"
   ]
  },
  {
   "cell_type": "code",
   "execution_count": 24,
   "id": "9c5c76f5",
   "metadata": {},
   "outputs": [
    {
     "data": {
      "text/plain": [
       "26"
      ]
     },
     "execution_count": 24,
     "metadata": {},
     "output_type": "execute_result"
    }
   ],
   "source": [
    "len(val)"
   ]
  },
  {
   "cell_type": "code",
   "execution_count": 55,
   "id": "2db2a4d2",
   "metadata": {},
   "outputs": [],
   "source": [
    "from tensorflow.keras.models import Sequential\n",
    "\n",
    "from tensorflow.keras.layers import Conv2D, MaxPooling2D, Dense, Flatten"
   ]
  },
  {
   "cell_type": "code",
   "execution_count": 56,
   "id": "b16aae9c",
   "metadata": {},
   "outputs": [],
   "source": [
    "model = Sequential()"
   ]
  },
  {
   "cell_type": "code",
   "execution_count": 57,
   "id": "c49655f4",
   "metadata": {},
   "outputs": [],
   "source": [
    "model.add(Conv2D(16, (3,3),1,activation = 'relu',input_shape=(256,256,3)))\n",
    "\n",
    "model.add(MaxPooling2D())\n",
    "\n",
    "\n",
    "\n",
    "model.add(Conv2D(32, (3,3), 1, activation = 'relu'))\n",
    "\n",
    "model.add(MaxPooling2D())\n",
    "\n",
    "\n",
    "\n",
    "model.add(Conv2D(16, (3,3), 1, activation='relu'))\n",
    "model.add(MaxPooling2D())\n",
    "\n",
    "\n",
    "\n",
    "model.add(Flatten())\n",
    "\n",
    "\n",
    "\n",
    "model.add(Dense (256, activation='relu'))\n",
    "\n",
    "model.add(Dense (1, activation='sigmoid'))\n"
   ]
  },
  {
   "cell_type": "code",
   "execution_count": 58,
   "id": "1649ebc0",
   "metadata": {},
   "outputs": [],
   "source": [
    "model.compile('adam', loss=tf.losses.BinaryCrossentropy(), metrics= ['accuracy'])"
   ]
  },
  {
   "cell_type": "code",
   "execution_count": 60,
   "id": "37ba6256",
   "metadata": {
    "scrolled": true
   },
   "outputs": [
    {
     "name": "stdout",
     "output_type": "stream",
     "text": [
      "Model: \"sequential_5\"\n",
      "_________________________________________________________________\n",
      " Layer (type)                Output Shape              Param #   \n",
      "=================================================================\n",
      " conv2d_25 (Conv2D)          (None, 254, 254, 16)      448       \n",
      "                                                                 \n",
      " max_pooling2d_21 (MaxPoolin  (None, 127, 127, 16)     0         \n",
      " g2D)                                                            \n",
      "                                                                 \n",
      " conv2d_26 (Conv2D)          (None, 125, 125, 32)      4640      \n",
      "                                                                 \n",
      " max_pooling2d_22 (MaxPoolin  (None, 62, 62, 32)       0         \n",
      " g2D)                                                            \n",
      "                                                                 \n",
      " conv2d_27 (Conv2D)          (None, 60, 60, 16)        4624      \n",
      "                                                                 \n",
      " max_pooling2d_23 (MaxPoolin  (None, 30, 30, 16)       0         \n",
      " g2D)                                                            \n",
      "                                                                 \n",
      " flatten_3 (Flatten)         (None, 14400)             0         \n",
      "                                                                 \n",
      " dense_6 (Dense)             (None, 256)               3686656   \n",
      "                                                                 \n",
      " dense_7 (Dense)             (None, 1)                 257       \n",
      "                                                                 \n",
      "=================================================================\n",
      "Total params: 3,696,625\n",
      "Trainable params: 3,696,625\n",
      "Non-trainable params: 0\n",
      "_________________________________________________________________\n"
     ]
    }
   ],
   "source": [
    "model.summary()"
   ]
  },
  {
   "cell_type": "code",
   "execution_count": 61,
   "id": "67819ebe",
   "metadata": {},
   "outputs": [],
   "source": [
    "logdir = \"D:\\Intern\\Data Science\\Intern_Project\\logs\""
   ]
  },
  {
   "cell_type": "code",
   "execution_count": 62,
   "id": "2142d673",
   "metadata": {},
   "outputs": [],
   "source": [
    "tensorboard_callback = tf.keras.callbacks.TensorBoard(log_dir=logdir)"
   ]
  },
  {
   "cell_type": "code",
   "execution_count": 63,
   "id": "f5b18e96",
   "metadata": {},
   "outputs": [
    {
     "name": "stdout",
     "output_type": "stream",
     "text": [
      "Epoch 1/20\n",
      "103/103 [==============================] - 65s 616ms/step - loss: 0.6015 - accuracy: 0.6993 - val_loss: 0.5413 - val_accuracy: 0.7318\n",
      "Epoch 2/20\n",
      "103/103 [==============================] - 67s 646ms/step - loss: 0.4890 - accuracy: 0.7615 - val_loss: 0.5282 - val_accuracy: 0.7540\n",
      "Epoch 3/20\n",
      "103/103 [==============================] - 68s 657ms/step - loss: 0.3759 - accuracy: 0.8298 - val_loss: 0.4300 - val_accuracy: 0.8133\n",
      "Epoch 4/20\n",
      "103/103 [==============================] - 81s 782ms/step - loss: 0.2708 - accuracy: 0.8887 - val_loss: 0.3935 - val_accuracy: 0.8331\n",
      "Epoch 5/20\n",
      "103/103 [==============================] - 82s 783ms/step - loss: 0.1728 - accuracy: 0.9357 - val_loss: 0.4225 - val_accuracy: 0.8566\n",
      "Epoch 6/20\n",
      "103/103 [==============================] - 74s 714ms/step - loss: 0.0969 - accuracy: 0.9639 - val_loss: 0.4951 - val_accuracy: 0.8529\n",
      "Epoch 7/20\n",
      "103/103 [==============================] - 79s 759ms/step - loss: 0.0537 - accuracy: 0.9836 - val_loss: 0.5635 - val_accuracy: 0.8529\n",
      "Epoch 8/20\n",
      "103/103 [==============================] - 77s 741ms/step - loss: 0.0530 - accuracy: 0.9848 - val_loss: 0.5521 - val_accuracy: 0.8529\n",
      "Epoch 9/20\n",
      "103/103 [==============================] - 70s 666ms/step - loss: 0.0226 - accuracy: 0.9942 - val_loss: 0.5809 - val_accuracy: 0.8603\n",
      "Epoch 10/20\n",
      "103/103 [==============================] - 69s 667ms/step - loss: 0.0321 - accuracy: 0.9900 - val_loss: 0.6708 - val_accuracy: 0.8665\n",
      "Epoch 11/20\n",
      "103/103 [==============================] - 72s 689ms/step - loss: 0.0171 - accuracy: 0.9964 - val_loss: 0.6887 - val_accuracy: 0.8801\n",
      "Epoch 12/20\n",
      "103/103 [==============================] - 72s 691ms/step - loss: 0.0083 - accuracy: 0.9988 - val_loss: 0.7340 - val_accuracy: 0.8653\n",
      "Epoch 13/20\n",
      "103/103 [==============================] - 71s 684ms/step - loss: 0.0171 - accuracy: 0.9939 - val_loss: 0.7011 - val_accuracy: 0.8492\n",
      "Epoch 14/20\n",
      "103/103 [==============================] - 77s 740ms/step - loss: 0.0080 - accuracy: 0.9988 - val_loss: 0.8063 - val_accuracy: 0.8529\n",
      "Epoch 15/20\n",
      "103/103 [==============================] - 71s 679ms/step - loss: 0.0195 - accuracy: 0.9933 - val_loss: 0.7211 - val_accuracy: 0.8529\n",
      "Epoch 16/20\n",
      "103/103 [==============================] - 72s 691ms/step - loss: 0.0148 - accuracy: 0.9954 - val_loss: 0.8408 - val_accuracy: 0.8492\n",
      "Epoch 17/20\n",
      "103/103 [==============================] - 72s 693ms/step - loss: 0.0180 - accuracy: 0.9936 - val_loss: 0.7042 - val_accuracy: 0.8554\n",
      "Epoch 18/20\n",
      "103/103 [==============================] - 71s 677ms/step - loss: 0.0088 - accuracy: 0.9976 - val_loss: 0.8480 - val_accuracy: 0.8628\n",
      "Epoch 19/20\n",
      "103/103 [==============================] - 72s 696ms/step - loss: 0.0013 - accuracy: 0.9997 - val_loss: 0.9944 - val_accuracy: 0.8714\n",
      "Epoch 20/20\n",
      "103/103 [==============================] - 74s 710ms/step - loss: 2.2184e-04 - accuracy: 1.0000 - val_loss: 1.0087 - val_accuracy: 0.8690\n"
     ]
    }
   ],
   "source": [
    "hist = model.fit(train, epochs = 20, validation_data = val, callbacks = [tensorboard_callback])"
   ]
  },
  {
   "cell_type": "code",
   "execution_count": 64,
   "id": "d42948e6",
   "metadata": {},
   "outputs": [
    {
     "data": {
      "image/png": "[encoded data removed]",
      "text/plain": [
       "<Figure size 640x480 with 1 Axes>"
      ]
     },
     "metadata": {},
     "output_type": "display_data"
    }
   ],
   "source": [
    "fig = plt.figure()\n",
    "\n",
    "plt.plot(hist.history['loss'], color='teal', label='loss')\n",
    "plt.plot(hist.history['val_loss'], color='orange', label='val_loss')\n",
    "fig.suptitle('Loss', fontsize=20)\n",
    "\n",
    "plt.legend(loc=\"upper left\")\n",
    "\n",
    "plt.show()"
   ]
  },
  {
   "cell_type": "code",
   "execution_count": null,
   "id": "839775cd",
   "metadata": {},
   "outputs": [],
   "source": []
  }
 ],
 "metadata": {
  "kernelspec": {
   "display_name": "Python 3 (ipykernel)",
   "language": "python",
   "name": "python3"
  },
  "language_info": {
   "codemirror_mode": {
    "name": "ipython",
    "version": 3
   },
   "file_extension": ".py",
   "mimetype": "text/x-python",
   "name": "python",
   "nbconvert_exporter": "python",
   "pygments_lexer": "ipython3",
   "version": "3.11.0"
  }
 },
 "nbformat": 4,
 "nbformat_minor": 5
}
